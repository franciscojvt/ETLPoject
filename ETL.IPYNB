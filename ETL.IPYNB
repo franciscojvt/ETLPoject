{
 "cells": [
  {
   "cell_type": "markdown",
   "metadata": {},
   "source": [
    "# Proyecto ETL Migracion a PostgreSQL"
   ]
  },
  {
   "cell_type": "code",
   "execution_count": 1,
   "metadata": {},
   "outputs": [],
   "source": [
    "#importando librerias\n",
    "import pandas as pd\n",
    "import numpy as np\n",
    "import os\n"
   ]
  },
  {
   "cell_type": "code",
   "execution_count": 2,
   "metadata": {},
   "outputs": [],
   "source": [
    "directorio = os.getcwd()"
   ]
  },
  {
   "cell_type": "code",
   "execution_count": 3,
   "metadata": {},
   "outputs": [],
   "source": [
    "dataset_name = \"jio_mart_items.csv\""
   ]
  },
  {
   "cell_type": "code",
   "execution_count": 4,
   "metadata": {},
   "outputs": [],
   "source": [
    "#carga de datos\n",
    "productos=pd.read_csv(os.path.join(directorio, dataset_name))"
   ]
  },
  {
   "cell_type": "code",
   "execution_count": 11,
   "metadata": {},
   "outputs": [
    {
     "data": {
      "text/plain": [
       "array(['Groceries', 'Home & Kitchen', 'Fashion', 'Electronics', 'Beauty',\n",
       "       'Jewellery'], dtype=object)"
      ]
     },
     "execution_count": 11,
     "metadata": {},
     "output_type": "execute_result"
    }
   ],
   "source": [
    "productos[\"category\"].unique()"
   ]
  },
  {
   "cell_type": "code",
   "execution_count": 9,
   "metadata": {},
   "outputs": [],
   "source": [
    "list_id = range(1,len(list(np.unique(productos[\"category\"]))))"
   ]
  },
  {
   "cell_type": "code",
   "execution_count": 14,
   "metadata": {},
   "outputs": [],
   "source": [
    "category = pd.DataFrame({\"category_name\": np.unique(productos[\"category\"]),\n",
    "                        \"category_id\": list(range(1,len(productos[\"category\"].unique()) + 1 ))})"
   ]
  },
  {
   "cell_type": "code",
   "execution_count": 15,
   "metadata": {},
   "outputs": [
    {
     "data": {
      "text/plain": [
       "range(1, 6)"
      ]
     },
     "execution_count": 15,
     "metadata": {},
     "output_type": "execute_result"
    }
   ],
   "source": [
    "list_id"
   ]
  },
  {
   "cell_type": "code",
   "execution_count": 16,
   "metadata": {},
   "outputs": [
    {
     "data": {
      "text/html": [
       "<div>\n",
       "<style scoped>\n",
       "    .dataframe tbody tr th:only-of-type {\n",
       "        vertical-align: middle;\n",
       "    }\n",
       "\n",
       "    .dataframe tbody tr th {\n",
       "        vertical-align: top;\n",
       "    }\n",
       "\n",
       "    .dataframe thead th {\n",
       "        text-align: right;\n",
       "    }\n",
       "</style>\n",
       "<table border=\"1\" class=\"dataframe\">\n",
       "  <thead>\n",
       "    <tr style=\"text-align: right;\">\n",
       "      <th></th>\n",
       "      <th>category_name</th>\n",
       "      <th>category_id</th>\n",
       "    </tr>\n",
       "  </thead>\n",
       "  <tbody>\n",
       "    <tr>\n",
       "      <th>0</th>\n",
       "      <td>Beauty</td>\n",
       "      <td>1</td>\n",
       "    </tr>\n",
       "    <tr>\n",
       "      <th>1</th>\n",
       "      <td>Electronics</td>\n",
       "      <td>2</td>\n",
       "    </tr>\n",
       "    <tr>\n",
       "      <th>2</th>\n",
       "      <td>Fashion</td>\n",
       "      <td>3</td>\n",
       "    </tr>\n",
       "    <tr>\n",
       "      <th>3</th>\n",
       "      <td>Groceries</td>\n",
       "      <td>4</td>\n",
       "    </tr>\n",
       "    <tr>\n",
       "      <th>4</th>\n",
       "      <td>Home &amp; Kitchen</td>\n",
       "      <td>5</td>\n",
       "    </tr>\n",
       "    <tr>\n",
       "      <th>5</th>\n",
       "      <td>Jewellery</td>\n",
       "      <td>6</td>\n",
       "    </tr>\n",
       "  </tbody>\n",
       "</table>\n",
       "</div>"
      ],
      "text/plain": [
       "    category_name  category_id\n",
       "0          Beauty            1\n",
       "1     Electronics            2\n",
       "2         Fashion            3\n",
       "3       Groceries            4\n",
       "4  Home & Kitchen            5\n",
       "5       Jewellery            6"
      ]
     },
     "execution_count": 16,
     "metadata": {},
     "output_type": "execute_result"
    }
   ],
   "source": [
    "category"
   ]
  },
  {
   "cell_type": "code",
   "execution_count": 17,
   "metadata": {},
   "outputs": [
    {
     "data": {
      "text/html": [
       "<div>\n",
       "<style scoped>\n",
       "    .dataframe tbody tr th:only-of-type {\n",
       "        vertical-align: middle;\n",
       "    }\n",
       "\n",
       "    .dataframe tbody tr th {\n",
       "        vertical-align: top;\n",
       "    }\n",
       "\n",
       "    .dataframe thead th {\n",
       "        text-align: right;\n",
       "    }\n",
       "</style>\n",
       "<table border=\"1\" class=\"dataframe\">\n",
       "  <thead>\n",
       "    <tr style=\"text-align: right;\">\n",
       "      <th></th>\n",
       "      <th>category</th>\n",
       "      <th>sub_category</th>\n",
       "      <th>href</th>\n",
       "      <th>items</th>\n",
       "      <th>price</th>\n",
       "    </tr>\n",
       "  </thead>\n",
       "  <tbody>\n",
       "    <tr>\n",
       "      <th>0</th>\n",
       "      <td>Groceries</td>\n",
       "      <td>Fruits &amp; Vegetables</td>\n",
       "      <td>https://www.jiomart.com/c/groceries/fruits-veg...</td>\n",
       "      <td>Fresh Dates (Pack) (Approx 450 g - 500 g)</td>\n",
       "      <td>109.0</td>\n",
       "    </tr>\n",
       "    <tr>\n",
       "      <th>1</th>\n",
       "      <td>Groceries</td>\n",
       "      <td>Fruits &amp; Vegetables</td>\n",
       "      <td>https://www.jiomart.com/c/groceries/fruits-veg...</td>\n",
       "      <td>Tender Coconut Cling Wrapped (1 pc) (Approx 90...</td>\n",
       "      <td>49.0</td>\n",
       "    </tr>\n",
       "    <tr>\n",
       "      <th>2</th>\n",
       "      <td>Groceries</td>\n",
       "      <td>Fruits &amp; Vegetables</td>\n",
       "      <td>https://www.jiomart.com/c/groceries/fruits-veg...</td>\n",
       "      <td>Mosambi 1 kg</td>\n",
       "      <td>69.0</td>\n",
       "    </tr>\n",
       "    <tr>\n",
       "      <th>3</th>\n",
       "      <td>Groceries</td>\n",
       "      <td>Fruits &amp; Vegetables</td>\n",
       "      <td>https://www.jiomart.com/c/groceries/fruits-veg...</td>\n",
       "      <td>Orange Imported 1 kg</td>\n",
       "      <td>125.0</td>\n",
       "    </tr>\n",
       "    <tr>\n",
       "      <th>4</th>\n",
       "      <td>Groceries</td>\n",
       "      <td>Fruits &amp; Vegetables</td>\n",
       "      <td>https://www.jiomart.com/c/groceries/fruits-veg...</td>\n",
       "      <td>Banana Robusta 6 pcs (Box) (Approx 800 g - 110...</td>\n",
       "      <td>44.0</td>\n",
       "    </tr>\n",
       "    <tr>\n",
       "      <th>...</th>\n",
       "      <td>...</td>\n",
       "      <td>...</td>\n",
       "      <td>...</td>\n",
       "      <td>...</td>\n",
       "      <td>...</td>\n",
       "    </tr>\n",
       "    <tr>\n",
       "      <th>162308</th>\n",
       "      <td>Jewellery</td>\n",
       "      <td>Fine Jewellery</td>\n",
       "      <td>https://www.jiomart.com/c/jewellery/fine-jewel...</td>\n",
       "      <td>Reliance Jewels Ag 99.9 5.6 gm Ganesha Silver ...</td>\n",
       "      <td>1669.0</td>\n",
       "    </tr>\n",
       "    <tr>\n",
       "      <th>162309</th>\n",
       "      <td>Jewellery</td>\n",
       "      <td>Fine Jewellery</td>\n",
       "      <td>https://www.jiomart.com/c/jewellery/fine-jewel...</td>\n",
       "      <td>Reliance Jewels Ag 99.9 4.58 gm Ganesha Silver...</td>\n",
       "      <td>1391.0</td>\n",
       "    </tr>\n",
       "    <tr>\n",
       "      <th>162310</th>\n",
       "      <td>Jewellery</td>\n",
       "      <td>Fine Jewellery</td>\n",
       "      <td>https://www.jiomart.com/c/jewellery/fine-jewel...</td>\n",
       "      <td>Reliance Jewels Ag 99.9 2.31 gm Ganesha Silver...</td>\n",
       "      <td>834.0</td>\n",
       "    </tr>\n",
       "    <tr>\n",
       "      <th>162311</th>\n",
       "      <td>Jewellery</td>\n",
       "      <td>Fine Jewellery</td>\n",
       "      <td>https://www.jiomart.com/c/jewellery/fine-jewel...</td>\n",
       "      <td>Reliance Jewels Ag 99.9 7.76 gm Ganesha Silver...</td>\n",
       "      <td>2276.0</td>\n",
       "    </tr>\n",
       "    <tr>\n",
       "      <th>162312</th>\n",
       "      <td>Jewellery</td>\n",
       "      <td>Fine Jewellery</td>\n",
       "      <td>https://www.jiomart.com/c/jewellery/fine-jewel...</td>\n",
       "      <td>Reliance Jewels Ag 99.9 2.9 gm Balaji Silver Idol</td>\n",
       "      <td>834.0</td>\n",
       "    </tr>\n",
       "  </tbody>\n",
       "</table>\n",
       "<p>162313 rows × 5 columns</p>\n",
       "</div>"
      ],
      "text/plain": [
       "         category         sub_category  \\\n",
       "0       Groceries  Fruits & Vegetables   \n",
       "1       Groceries  Fruits & Vegetables   \n",
       "2       Groceries  Fruits & Vegetables   \n",
       "3       Groceries  Fruits & Vegetables   \n",
       "4       Groceries  Fruits & Vegetables   \n",
       "...           ...                  ...   \n",
       "162308  Jewellery       Fine Jewellery   \n",
       "162309  Jewellery       Fine Jewellery   \n",
       "162310  Jewellery       Fine Jewellery   \n",
       "162311  Jewellery       Fine Jewellery   \n",
       "162312  Jewellery       Fine Jewellery   \n",
       "\n",
       "                                                     href  \\\n",
       "0       https://www.jiomart.com/c/groceries/fruits-veg...   \n",
       "1       https://www.jiomart.com/c/groceries/fruits-veg...   \n",
       "2       https://www.jiomart.com/c/groceries/fruits-veg...   \n",
       "3       https://www.jiomart.com/c/groceries/fruits-veg...   \n",
       "4       https://www.jiomart.com/c/groceries/fruits-veg...   \n",
       "...                                                   ...   \n",
       "162308  https://www.jiomart.com/c/jewellery/fine-jewel...   \n",
       "162309  https://www.jiomart.com/c/jewellery/fine-jewel...   \n",
       "162310  https://www.jiomart.com/c/jewellery/fine-jewel...   \n",
       "162311  https://www.jiomart.com/c/jewellery/fine-jewel...   \n",
       "162312  https://www.jiomart.com/c/jewellery/fine-jewel...   \n",
       "\n",
       "                                                    items   price  \n",
       "0               Fresh Dates (Pack) (Approx 450 g - 500 g)   109.0  \n",
       "1       Tender Coconut Cling Wrapped (1 pc) (Approx 90...    49.0  \n",
       "2                                            Mosambi 1 kg    69.0  \n",
       "3                                    Orange Imported 1 kg   125.0  \n",
       "4       Banana Robusta 6 pcs (Box) (Approx 800 g - 110...    44.0  \n",
       "...                                                   ...     ...  \n",
       "162308  Reliance Jewels Ag 99.9 5.6 gm Ganesha Silver ...  1669.0  \n",
       "162309  Reliance Jewels Ag 99.9 4.58 gm Ganesha Silver...  1391.0  \n",
       "162310  Reliance Jewels Ag 99.9 2.31 gm Ganesha Silver...   834.0  \n",
       "162311  Reliance Jewels Ag 99.9 7.76 gm Ganesha Silver...  2276.0  \n",
       "162312  Reliance Jewels Ag 99.9 2.9 gm Balaji Silver Idol   834.0  \n",
       "\n",
       "[162313 rows x 5 columns]"
      ]
     },
     "execution_count": 17,
     "metadata": {},
     "output_type": "execute_result"
    }
   ],
   "source": [
    "productos"
   ]
  },
  {
   "cell_type": "code",
   "execution_count": 18,
   "metadata": {},
   "outputs": [],
   "source": [
    "# create table subcategory\n",
    "sub_category = pd.DataFrame({\"category_name\": np.unique(productos[\"sub_category\"]),\n",
    "                        \"category_id\": list(range(1,len(productos[\"sub_category\"].unique()) + 1 ))})\n"
   ]
  },
  {
   "cell_type": "code",
   "execution_count": 19,
   "metadata": {},
   "outputs": [
    {
     "data": {
      "text/html": [
       "<div>\n",
       "<style scoped>\n",
       "    .dataframe tbody tr th:only-of-type {\n",
       "        vertical-align: middle;\n",
       "    }\n",
       "\n",
       "    .dataframe tbody tr th {\n",
       "        vertical-align: top;\n",
       "    }\n",
       "\n",
       "    .dataframe thead th {\n",
       "        text-align: right;\n",
       "    }\n",
       "</style>\n",
       "<table border=\"1\" class=\"dataframe\">\n",
       "  <thead>\n",
       "    <tr style=\"text-align: right;\">\n",
       "      <th></th>\n",
       "      <th>category_name</th>\n",
       "      <th>category_id</th>\n",
       "    </tr>\n",
       "  </thead>\n",
       "  <tbody>\n",
       "    <tr>\n",
       "      <th>0</th>\n",
       "      <td>Accessories</td>\n",
       "      <td>1</td>\n",
       "    </tr>\n",
       "    <tr>\n",
       "      <th>1</th>\n",
       "      <td>Apparel</td>\n",
       "      <td>2</td>\n",
       "    </tr>\n",
       "    <tr>\n",
       "      <th>2</th>\n",
       "      <td>Auto Care</td>\n",
       "      <td>3</td>\n",
       "    </tr>\n",
       "    <tr>\n",
       "      <th>3</th>\n",
       "      <td>Ayush</td>\n",
       "      <td>4</td>\n",
       "    </tr>\n",
       "    <tr>\n",
       "      <th>4</th>\n",
       "      <td>Bags &amp; Travel Luggage</td>\n",
       "      <td>5</td>\n",
       "    </tr>\n",
       "    <tr>\n",
       "      <th>...</th>\n",
       "      <td>...</td>\n",
       "      <td>...</td>\n",
       "    </tr>\n",
       "    <tr>\n",
       "      <th>67</th>\n",
       "      <td>Tools &amp; Appliances</td>\n",
       "      <td>68</td>\n",
       "    </tr>\n",
       "    <tr>\n",
       "      <th>68</th>\n",
       "      <td>Toys, Games &amp; Fitness</td>\n",
       "      <td>69</td>\n",
       "    </tr>\n",
       "    <tr>\n",
       "      <th>69</th>\n",
       "      <td>Treatments</td>\n",
       "      <td>70</td>\n",
       "    </tr>\n",
       "    <tr>\n",
       "      <th>70</th>\n",
       "      <td>Wellness</td>\n",
       "      <td>71</td>\n",
       "    </tr>\n",
       "    <tr>\n",
       "      <th>71</th>\n",
       "      <td>Women</td>\n",
       "      <td>72</td>\n",
       "    </tr>\n",
       "  </tbody>\n",
       "</table>\n",
       "<p>72 rows × 2 columns</p>\n",
       "</div>"
      ],
      "text/plain": [
       "            category_name  category_id\n",
       "0             Accessories            1\n",
       "1                 Apparel            2\n",
       "2               Auto Care            3\n",
       "3                   Ayush            4\n",
       "4   Bags & Travel Luggage            5\n",
       "..                    ...          ...\n",
       "67     Tools & Appliances           68\n",
       "68  Toys, Games & Fitness           69\n",
       "69             Treatments           70\n",
       "70               Wellness           71\n",
       "71                  Women           72\n",
       "\n",
       "[72 rows x 2 columns]"
      ]
     },
     "execution_count": 19,
     "metadata": {},
     "output_type": "execute_result"
    }
   ],
   "source": [
    "sub_category"
   ]
  },
  {
   "cell_type": "code",
   "execution_count": 21,
   "metadata": {},
   "outputs": [
    {
     "data": {
      "text/plain": [
       "array(['Fresh Dates (Pack) (Approx 450 g - 500 g)',\n",
       "       'Tender Coconut Cling Wrapped (1 pc) (Approx 900 g - 1300 g)',\n",
       "       'Mosambi 1 kg', ...,\n",
       "       'Reliance Jewels Ag 99.9 2.31 gm Ganesha Silver Idol',\n",
       "       'Reliance Jewels Ag 99.9 7.76 gm Ganesha Silver Idol',\n",
       "       'Reliance Jewels Ag 99.9 2.9 gm Balaji Silver Idol'], dtype=object)"
      ]
     },
     "execution_count": 21,
     "metadata": {},
     "output_type": "execute_result"
    }
   ],
   "source": [
    "productos[\"items\"].unique()"
   ]
  },
  {
   "cell_type": "code",
   "execution_count": 22,
   "metadata": {},
   "outputs": [
    {
     "data": {
      "text/plain": [
       "Kiddiewink Cute Kid's Soft Velvet Animal Cartoon School Backpack Bag for Baby Boy/Girl(2-6 Years) Pack of 2    425\n",
       "Black Product                                                                                                  335\n",
       "Mriyangni Pendant Wall Lamp (Pack Of 2)                                                                        268\n",
       "Mriyangni Pendants Ceiling Lamp                                                                                210\n",
       "StoleVilla Women's Printed Chiffon Multicolored Scarf and Stoles with Tassels - Set of 2                       197\n",
       "                                                                                                              ... \n",
       "Nouvetta Turbo Grey Stainless Steel Double Walled Bottle 650 ml (NB-18628)                                       1\n",
       "Nouvetta Summer Red Stainless Steel Double Walled Water Bottle 800 ml (NB-622)                                   1\n",
       "Nouvetta Summer Black Stainless Steel Double Wall Insulated Bottle 800 ml (NB18621)                              1\n",
       "Nouvetta Summer Brown Stainless Steel Double Walled Water Bottle 600 ml (NB-620)                                 1\n",
       "Reliance Jewels Ag 99.9 2.9 gm Balaji Silver Idol                                                                1\n",
       "Name: items, Length: 138211, dtype: int64"
      ]
     },
     "execution_count": 22,
     "metadata": {},
     "output_type": "execute_result"
    }
   ],
   "source": [
    "productos[\"items\"].value_counts()"
   ]
  },
  {
   "cell_type": "code",
   "execution_count": null,
   "metadata": {},
   "outputs": [],
   "source": [
    "for in in "
   ]
  },
  {
   "cell_type": "code",
   "execution_count": null,
   "metadata": {},
   "outputs": [],
   "source": []
  }
 ],
 "metadata": {
  "kernelspec": {
   "display_name": "Python 3.10.5 64-bit",
   "language": "python",
   "name": "python3"
  },
  "language_info": {
   "codemirror_mode": {
    "name": "ipython",
    "version": 3
   },
   "file_extension": ".py",
   "mimetype": "text/x-python",
   "name": "python",
   "nbconvert_exporter": "python",
   "pygments_lexer": "ipython3",
   "version": "3.10.5"
  },
  "orig_nbformat": 4,
  "vscode": {
   "interpreter": {
    "hash": "c440b2921537089d1549803453cee84e23500ecec892745b55d072dc5c31c7f7"
   }
  }
 },
 "nbformat": 4,
 "nbformat_minor": 2
}
